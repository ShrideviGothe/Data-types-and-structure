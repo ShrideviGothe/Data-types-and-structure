{
  "nbformat": 4,
  "nbformat_minor": 0,
  "metadata": {
    "colab": {
      "provenance": []
    },
    "kernelspec": {
      "name": "python3",
      "display_name": "Python 3"
    },
    "language_info": {
      "name": "python"
    }
  },
  "cells": [
    {
      "cell_type": "markdown",
      "source": [
        "#  **Data types and structure**\n",
        "  \n",
        "  Q1. What are data structures, and why are they important?\n",
        "\n",
        "  **Ans**- Data structures are the basic building blocks for organizing and storing data in a computer so that it can be used efficiently. In Python, common data structures include lists, tuples, dictionaries, and sets.\n",
        "\n",
        "**They are important because:**\n",
        "\n",
        "a. They help us store large amounts of data in an organized way.\n",
        "\n",
        "b. They make it easy to retrieve, update, and process data quickly.\n",
        "\n",
        "c. In data analysis, we often deal with huge datasets, so using the right data structure helps improve the speed and performance of our programs.\n",
        "\n",
        "d. They also make the code clean, readable, and scalable.\n",
        "\n",
        "Implication - Learning data structures is essential for becoming a better data analyst, as they help us manage and analyze data more effectively.\n",
        "\n",
        "..\n",
        "\n",
        "Q2. Explain the difference between mutable and immutable data types with examples\n",
        "\n",
        "**Ans** - Data types are divided into two main categories: mutable and immutable.\n",
        "\n",
        "a. Mutable data types are those that can be changed or modified after they are created.\n",
        "\n",
        "b. Immutable data types are those that cannot be changed once they are created.\n",
        "\n",
        "*Mutable Example: List\n",
        "\n",
        "my_list = [1, 2, 3]\n",
        "\n",
        "my_list[0] = 10  # Modifies the first element\n",
        "\n",
        "print(my_list)  # Output: [10, 2, 3]\n",
        "\n",
        "*Immutable Example: String\n",
        "\n",
        "my_string = \"Data\"\n",
        "\n",
        "# my_string[0] = \"d\"  # This will cause an error\n",
        "\n",
        "Immutable Example: Tuple\n",
        "\n",
        "my_tuple = (1, 2, 3)\n",
        "# my_tuple[1] = 5  # This will also cause an error\n",
        "\n",
        "**Summary**   \n",
        "Mutable-Can be changed  \n",
        "Immutable- Cannot be changed  \n",
        "\n",
        "Examples of Mutable:\tlist, dict, set\n",
        "Examples of immutabke :int, float, string, tuple\n",
        "\n",
        "Understanding this difference helps me choose the right data type when working with data—whether I want it to stay the same (like a key) or change over time (like a dataset I update).\n",
        "\n",
        "..\n",
        "\n",
        "Q3. What are the main differences between lists and tuples in Python?\n",
        "\n",
        "**Ans** - Lists and tuples are both used to store collections of items in Python, but they have some key differences.\n",
        "\n",
        "Main Differences:\n",
        "\n",
        "**Feature**-------------|----------**List**----------|--------------------**Tuple**\n",
        "\n",
        "Mutability----------|-Mutable (can be changed)---|---Immutable (cannot be changed)\n",
        "\n",
        "Syntax--------------|Square brackets: [1, 2, 3]-----|---Round brackets: (1, 2, 3)\n",
        "\n",
        "Performance-------|Slower (more flexible)------|---Faster (more memory-efficient)\n",
        "\n",
        "Use Case------------|When data may change--------|---When data must remain fixed\n",
        "\n",
        "Functions---------|Supports more built-in methods like .append()--|--Fewer built-in methods\n",
        "\n",
        "Example:\n",
        "\n",
        "a. List example\n",
        "\n",
        "my_list = [10, 20, 30]\n",
        "\n",
        "### my_list[1] = 25  # List is changed\n",
        "\n",
        "b. Tuple example\n",
        "\n",
        "my_tuple = (10, 20, 30)\n",
        "\n",
        "### my_tuple[1] = 25  # This will cause an error\n",
        "\n",
        "**Implication-**\n",
        "\n",
        "A. Use lists when your data might change (like storing user inputs or processing data).\n",
        "\n",
        "b. Use tuples when your data should remain constant (like storing coordinates or fixed configurations).\n",
        "\n",
        "c. Understanding when to use lists vs. tuples helps me write more efficient and secure code during data analysis.\n",
        "\n",
        "..\n",
        "\n",
        "Q4. Describe how dictionaries store data.\n",
        "\n",
        "**Ans** - Dictionaries in Python are used to store data in key-value pairs. This makes it easy to access and manage data using a unique identifier (the key).\n",
        "\n",
        "**How it works**:\n",
        "a. Each item in a dictionary has a key and a value pair.\n",
        "\n",
        "b. Python uses a structure called a hash table behind the scenes.\n",
        "\n",
        "c. The key is hashed (converted to a unique number) to find the location in memory where the value is stored.\n",
        "\n",
        "d. This allows for fast data retrieval—usually in constant time O(1).\n",
        "\n",
        "**Example**:\n",
        "\n",
        "student = {\"name\": \"Alice\", \"age\": 22,\"course\": \"Data Analysis\"}\n",
        "\n",
        "print(student[\"name\"])  # Output: Alice\n",
        "\n",
        "\n",
        "**Key Points**:\n",
        "\n",
        "a.Keys must be unique and immutable (like strings, numbers, or tuples).\n",
        "\n",
        "b.Values can be of any data type.\n",
        "\n",
        "c.Dictionaries are very useful for structured data, like datasets with column names and corresponding values.\n",
        "\n",
        "**Why it matters in data analysis:**\n",
        "Dictionaries help in storing labeled data, mapping column names to values, or organizing nested JSON-like structures, which are commonly used in APIs and data files.\n",
        "\n",
        "..\n",
        "\n",
        "Q5.  Why might you use a set instead of a list in Python?\n",
        "\n",
        "**Ans**- Sets and lists both store collections of items, but sets have some special features that make them useful in specific situations.\n",
        "\n",
        "**Why choose a set over a list?**\n",
        "\n",
        "A. To store only unique values- Sets automatically remove duplicates.This is useful when I want to find unique entries in a dataset.\n",
        "Example -\n",
        "\n",
        "my_list = [1, 2, 2, 3]\n",
        "\n",
        "my_set = set(my_list)\n",
        "\n",
        "print(my_set)  # Output: {1, 2, 3}\n",
        "\n",
        "\n",
        "B. Faster membership checking- hecking if an item is in a set is faster than in a list.This is helpful when I work with large datasets and need to filter or validate values.\n",
        "\n",
        "Example-\n",
        "\n",
        "3 in my_set  # Fast lookup in a set\n",
        "\n",
        "\n",
        "c. Mathematical operations -Sets support operations like union, intersection, and difference, which can be useful in comparing datasets.\n",
        "\n",
        "Example -\n",
        "\n",
        "set1 = {1, 2, 3}\n",
        "\n",
        "set2 = {2, 3, 4}\n",
        "\n",
        "print(set1 & set2)  # Intersection: {2, 3}\n",
        "\n",
        "**Summary:**\n",
        "\n",
        "**Feature**------------|-----**Set**-------------|-----------**List**\n",
        "\n",
        "Duplication--------|---Not allowed-------|------------Allowed\n",
        "\n",
        "Order--------------|----Unordered--------|------------Ordered\n",
        "\n",
        "Membership test----|-------Fast----------|------------Slower (for large lists)\n",
        "\n",
        "**Implication in Data Analysis**\n",
        "\n",
        "We use sets when we need to remove duplicates, compare categories, or clean data before analysis.\n",
        "\n",
        "..\n",
        "\n",
        "Q6. What is a string in Python, and how is it different from a list?\n",
        "\n",
        "**Ans** - A string in Python is a sequence of characters used to represent text. It is one of the most common data types used for handling labels, names, file paths, and other text data.\n",
        "\n",
        "Definition-A string is written inside single (' ') or double (\" \") quotes:\n",
        "\n",
        "Example-\n",
        "\n",
        "my_string = \"Data Analysis\"\n",
        "\n",
        "**How is it different from a list?**\n",
        "\n",
        "**Feature**-----------|----------------**String**--------|----------**List**\n",
        "\n",
        "Data Type----------|------------Stores character----|----Stores any data type\n",
        "\n",
        "Mutability---------|-----------Immutable-----------|---------Mutable\n",
        "\n",
        "Syntax------------|----Written in quotes \"text\"---|\tWritten in square brackets [ ]\n",
        "\n",
        "Modification------|----Cannot change a single cha--|--Can change individual items\n",
        "\n",
        "Use Case----------|------Text and character data---|---General-purpose collection\n",
        "\n",
        "Example:\n",
        "\n",
        "my_string = \"Hello\"\n",
        "\n",
        "# my_string[0] = \"h\"  # Error, strings are immutable\n",
        "\n",
        "my_list = ['H', 'e', 'l', 'l', 'o']\n",
        "\n",
        "my_list[0] = 'h'  # This works\n",
        "\n",
        "print(my_list)  # Output: ['h', 'e', 'l', 'l', 'o']\n",
        "\n",
        "**Implication in Data Analysis:**\n",
        "Strings are used to manage textual data like column names, file names, or user inputs.\n",
        "\n",
        "Lists are useful when we want to store and modify multiple values, including strings, numbers, etc.\n",
        "\n",
        "..\n",
        "\n",
        "Q7. How do tuples ensure data integrity in Python?\n",
        "\n",
        "**Ans** - tuples are important in Python when we want to keep our data safe and unchanged. A tuple is an immutable data structure, which means once it's created, we cannot modify, add, or delete its elements.\n",
        "\n",
        "**How tuples ensure data integrity:**\n",
        "\n",
        "a. Immutability-Once data is stored in a tuple, it cannot be changed, which prevents accidental updates or deletions.This is very useful when working with constant reference values or read-only configurations.\n",
        "\n",
        "b. Reliable data storage- Tuples help keep data consistent and protected throughout the program. For example, coordinates ((x, y)), dates, or database keys are best stored in tuples.\n",
        "\n",
        "c. Used as keys in dictionaries- Because they are immutable, tuples can be used as keys in dictionaries, unlike lists.\n",
        "\n",
        "Example:\n",
        "\n",
        "location = (12.9716, 77.5946)  # A fixed GPS coordinate\n",
        "\n",
        "# location[0] = 11.11  # This would raise an error\n",
        "\n",
        "**Summary:**\n",
        "a. Tuples protect data by making it unchangeable.\n",
        "\n",
        "b. They are ideal when data should not be modified, especially in data analysis tasks that rely on stable reference points.\n",
        "\n",
        "..\n",
        "\n",
        "Q8.  What is a hash table, and how does it relate to dictionaries in Python?\n",
        "\n",
        "**Ans-** A hash table is a data structure used to store data in a way that allows for fast access and retrieval using keys.In Python, the dictionary is built using the concept of a hash table.\n",
        "\n",
        "**What is a hash table?**- A hash table stores data in key-value pairs.It uses a process called hashing to convert the key into an index (a unique number) where the value is stored.This allows the program to quickly find the value when you provide the key.\n",
        "\n",
        "**How it relates to dictionaries:**\n",
        "A Python dictionary is an implementation of a hash table.\n",
        "\n",
        "When we do something like:\n",
        "\n",
        "\n",
        "student = {\"name\": \"Alice\", \"age\": 20}\n",
        "\n",
        "print(student[\"name\"])  # Output: Alice\n",
        "\n",
        "Python uses the key \"name\", hashes it to find a location in memory, and fetches the value \"Alice\".\n",
        "\n",
        "**Advantages in Data Analysis:**\n",
        "\n",
        "a. Fast lookups: Retrieving values is quick, even in large datasets.\n",
        "\n",
        "b. Efficient mapping: You can easily map column names to values or categories to counts.\n",
        "\n",
        "**Summary:**\n",
        "A hash table is the underlying mechanism.A dictionary in Python uses hash tables to provide efficient key-based access to data.Understanding hash tables helps me appreciate how dictionaries work so efficiently—something very useful in handling structured data in analysis tasks.\n",
        "\n",
        "...\n",
        "\n",
        "Q.9 Can lists contain different data types in Python?\n",
        "\n",
        "**Ans-** Lists in Python can contain elements of different data types. This is one of the most flexible features of Python lists.\n",
        "\n",
        "Example:\n",
        "\n",
        "my_list = [25, \"Data\", 3.14, True]\n",
        "\n",
        "print(my_list)\n",
        "\n",
        "### Output: [25, 'Data', 3.14, True]\n",
        "\n",
        "In the example above:\n",
        "\n",
        "25 is an integer\n",
        "\n",
        "\"Data\" is a string\n",
        "\n",
        "3.14 is a float\n",
        "\n",
        "True is a boolean\n",
        "\n",
        "And they all exist together in the same list!\n",
        "\n",
        "**Why this is useful:** It allows us to combine related data in one place.\n",
        "\n",
        "For example, if I'm analyzing user records, a single list might contain a user's name, age, subscription status, and rating — all different data types.\n",
        "\n",
        "**Summary:** Yes, lists can store different data types.This makes them very flexible and useful in data analysis for grouping mixed data values.\n",
        "\n",
        "..\n",
        "\n",
        "Q10. Explain why strings are immutable in Pytho.\n",
        "\n",
        "**Ans-** Strings are immutable in Python, which means once a string is created, it cannot be changed.\n",
        "\n",
        "**What does immutable mean for strings?**\n",
        "\n",
        "You cannot change, replace, or delete individual characters in a string directly.\n",
        "\n",
        "Any operation that seems to change a string actually creates a new string in memory.\n",
        "\n",
        "Example:\n",
        "\n",
        "text = \"Data\"\n",
        "\n",
        "### text[0] = \"d\"  # This will give an error,\n",
        "\n",
        "But we can create a new string\n",
        "\n",
        "new_text = \"d\" + text[1:]\n",
        "\n",
        "print(new_text)  # Output: \"data\"\n",
        "\n",
        "**Why are strings immutable?**-\n",
        "\n",
        "a.Memory Efficiency- Since strings are used very often, making them immutable helps save memory and improves performance.\n",
        "\n",
        "b. Security- Immutable strings prevent accidental or harmful changes, which is useful in data processing and secure applications.\n",
        "\n",
        "c. Hashability- Immutable strings can be used as keys in dictionaries, which rely on fixed (unchanging) hash values.\n",
        "\n",
        "**Implication in Data Analysis:**\n",
        "String immutability ensures that data like column names, file paths, or identifiers remain consistent and protected from unintended changes.\n",
        "\n",
        "..\n",
        "\n",
        "Q11.  What advantages do dictionaries offer over lists for certain tasks?\n",
        "\n",
        "**Ans-** While both lists and dictionaries are used to store data, dictionaries offer special advantages when we need to store data in key-value pairs.\n",
        "\n",
        "**Key Advantages of Dictionaries Over Lists:**\n",
        "\n",
        "a. Faster Data Access- Dictionaries use keys and a hash table, so accessing data is very fast — usually in constant time O(1).In lists, you have to search by index or loop through the list, which can be slower.\n",
        "\n",
        "b. Meaningful Data Representation-With dictionaries, we can label data using keys. This makes the data easier to understand and work with.\n",
        "\n",
        "\n",
        "student = {\"name\": \"Asha\", \"age\": 21}\n",
        "\n",
        "print(student[\"name\"])  # Output: Asha\n",
        "\n",
        "c. Flexible and Dynamic- We can easily add, update, or remove key-value pairs.\n",
        "\n",
        "Useful for structured data, like rows in a dataset, JSON files, and APIs.\n",
        "\n",
        "d. Avoids Index Errors- Lists can give errors if you access an index that doesn’t exist. With dictionaries, you can use .get() to safely check keys.\n",
        "\n",
        "**Implication in Data Analysis:**\n",
        "\n",
        "Dictionaries are ideal for:\n",
        "\n",
        "a. Mapping column names to values\n",
        "\n",
        "b. Counting frequencies (e.g., word counts)\n",
        "\n",
        "c. Representing JSON data\n",
        "\n",
        "d. Working with data where labels matter more than position\n",
        "\n",
        "**Summary:**\n",
        "\n",
        "**Feature**--------------|--------**List**--------|----------**Dictionary**\n",
        "\n",
        "Access by\t--------------|-----------Index---------|----------\tKey\n",
        "\n",
        "Lookup Spee-------------|--------Slower (O(n))----|----Faster (O(1))\n",
        "\n",
        "Best for----------------|------Ordered sequences----|----\tKey-labeled structured data\n",
        "\n",
        "..\n",
        "\n",
        "Q12. Describe a scenario where using a tuple would be preferable over a list.\n",
        "\n",
        "**Ans**- Tuples are ideal whenever I need to work with fixed, unchanging data that should remain consistent throughout my analysis.\n",
        "\n",
        "**Scenario: Storing Geographic Coordinates**\n",
        "\n",
        "When I’m analyzing location-based data—say mapping customer locations on a map—I might store each point as a tuple of (latitude, longitude). Since these coordinates are constant for a given location, using a tuple:\n",
        "\n",
        "a. Ensures data integrity (no accidental modification).\n",
        "\n",
        "b. Lets me use the coordinate pair as a key in a dictionary (because tuples are hashable).\n",
        "\n",
        "Example: Mapping store locations to store names\n",
        "\n",
        "store_locations = {(12.9716, 77.5946): \"Store A\",(28.7041, 77.1025): \"Store B\"}\n",
        "\n",
        "**Additional Benefits in This Scenario:**\n",
        "\n",
        "a. Immutability: Guarantees the coordinates can’t be changed by mistake.\n",
        "\n",
        "b. Hashable: Allows using the tuple as a dictionary key for efficient lookups (O(1) access).\n",
        "\n",
        "c. Memory Efficiency: Tuples use slightly less memory than lists, which is helpful when dealing with many data points.\n",
        "\n",
        "..\n",
        "\n",
        "Q13. How do sets handle duplicate values in Python?\n",
        "\n",
        "**Ans-** Sets in Python are designed to store only unique elements. When you create a set or add items to it, any duplicate values are automatically removed.\n",
        "\n",
        "**Key Points:**\n",
        "\n",
        "a. Uniqueness Enforcement- If you pass an iterable with duplicates to set(), Python will keep only one copy of each value.\n",
        "\n",
        "numbers = [1, 2, 2, 3, 4, 4]\n",
        "\n",
        "unique_numbers = set(numbers)\n",
        "\n",
        "print(unique_numbers)  # Output: {1, 2, 3, 4}\n",
        "\n",
        "b. Automatic De-duplication on Insertion- When you use .add() to insert elements, adding a value that already exists has no effect.\n",
        "\n",
        "fruits = {\"apple\", \"banana\"}\n",
        "\n",
        "fruits.add(\"apple\")  \n",
        "\n",
        "print(fruits)  # Output: {'apple', 'banana'}\n",
        "\n",
        "c. Benefits for Data Cleaning- Sets are very useful in data analysis for quickly extracting unique values from a dataset, such as unique user IDs or categories.\n",
        "\n",
        "**Application:**\n",
        "a. Ensures your collection contains no repeats, which simplifies operations like counting distinct items.\n",
        "\n",
        "b. Improves performance for membership tests and set operations (union, intersection, etc.).\n",
        "\n",
        "c. Using sets to handle duplicates helps me clean and preprocess data efficiently before diving into deeper analysis.\n",
        "\n",
        "..\n",
        "\n",
        "Q14. How does the “in” keyword work differently for lists and dictionaries?\n",
        "\n",
        "**Ans-** the in keyword helps check for membership but behaves slightly differently depending on the data structure:\n",
        "\n",
        "**With Lists**-What it checks: Looks through the elements of the list.\n",
        "\n",
        "Usage example:\n",
        "\n",
        "my_list = [10, 20, 30]\n",
        "\n",
        "print(20 in my_list)    # Output: True\n",
        "\n",
        "print(25 in my_list)    # Output: False\n",
        "\n",
        "**With Dictionaries**- What it checks: By default, checks for keys, not values.\n",
        "\n",
        "Usage example:\n",
        "\n",
        "my_dict = {\"name\": \"Alice\", \"age\": 22}\n",
        "\n",
        "print(\"name\" in my_dict)    # Output: True   (checks keys)\n",
        "\n",
        "print(\"Alice\" in my_dict)   # Output: False  (does not check values)\n",
        "\n",
        "Tip: To check for values, you can use:\n",
        "\n",
        "print(\"Alice\" in my_dict.values())  # Output: True\n",
        "\n",
        "This difference is important when writing conditional checks in data analysis scripts—knowing whether you’re testing against list items or dictionary keys ensures your code behaves as expected.\n",
        "\n",
        "..\n",
        "\n",
        "Q15.Can you modify the elements of a tuple? Explain why or why not?\n",
        "\n",
        "**Ans**- No, we cannot modify the elements of a tuple once it’s created. This is because tuples in Python are immutable.\n",
        "\n",
        "**Why not?**\n",
        "\n",
        "a. Immutability means the internal data cannot be changed—no item can be added, removed, or altered.\n",
        "\n",
        "b. This design ensures that tuple data remains constant and reliable, which is useful when you need fixed reference values.\n",
        "\n",
        "**What happens if we try?**\n",
        "\n",
        "my_tuple = (1, 2, 3)\n",
        "\n",
        "### my_tuple[1] = 5   #  Raises TypeError: 'tuple' object does not support item assignment\n",
        "\n",
        "**Key Takeaway**8\n",
        "\n",
        "a. If you need a sequence whose contents must stay the same (for safety or to use as dictionary keys), use a tuple.\n",
        "\n",
        "b. If you need to update or change the contents, use a list instead.\n",
        "\n",
        "..\n",
        "\n",
        "Q16. What is a nested dictionary, and give an example of its use case?\n",
        "\n",
        "**Ans-** A nested dictionary is simply a dictionary where one or more of the values are themselves dictionaries. This allows you to represent hierarchical or structured data in a clean, readable way.\n",
        "\n",
        "**What Is a Nested Dictionary?** A standard dictionary maps keys → values.\n",
        "A nested dictionary maps keys → (dictionaries as values), enabling multiple levels of data organization.\n",
        "\n",
        "Example Use Case:\n",
        "\n",
        "Student Grades by Subject\n",
        "\n",
        "Imagine we have multiple students, each with grades for different subjects. A nested dictionary lets us store this in one object:\n",
        "\n",
        "\n",
        "student_grades = {\"Alice\": {\"Math\": 85,\"Science\": 92,\"English\": 78},\"Bob\": {\"Math\": 90,\"Science\": 88,\"English\": 83}}\n",
        "\n",
        "Access Alice's Science grade:\n",
        "\n",
        "print(student_grades[\"Alice\"][\"Science\"])  # Output: 92\n",
        "\n",
        "**Why Use Nested Dictionaries?**\n",
        "\n",
        "a.Structured Representation: Mirrors real‑world hierarchical data (e.g., JSON responses from APIs).\n",
        "\n",
        "b.Easy Access: You can drill down into levels using successive key lookups.\n",
        "\n",
        "c.Flexibility: You can dynamically add new students or subjects without redesigning your data structure.\n",
        "\n",
        "d.Using nested dictionaries helps me manage complex, multi-layered datasets effectively—a common need in data analysis projects!\n",
        "\n",
        "..\n",
        "\n",
        "Q17. Describe the time complexity of accessing elements in a dictionary.\n",
        "\n",
        "**Ans-** One of the main reasons dictionaries are so powerful is their fast lookup performance.\n",
        "\n",
        "**Average‑Case Complexity**\n",
        "\n",
        "O(1) – Constant Time- When you access a value by its key (e.g., value = my_dict[\"key\"]), Python computes the key’s hash, uses it to index directly into an internal array (the hash table), and retrieves the value in constant time, regardless of the dictionary’s size.\n",
        "\n",
        "**Worst‑Case Complexity**\n",
        "\n",
        "O(n) – Linear Time- In very rare cases, if many keys hash to the same slot (a collision), Python must check each item in that slot’s bucket. In pathological scenarios, this degrades to linear time. However, Python’s hash table is designed to minimize collisions, so this worst case is extremely uncommon in practice.\n",
        "\n",
        "**Why It Matters in Data Analysis**\n",
        "\n",
        "a. Scalability: Even with millions of entries, you can fetch values almost instantly.\n",
        "\n",
        "b. Efficiency: Frequent lookups (e.g., counting frequencies, joining datasets by keys) remain performant.\n",
        "\n",
        "..\n",
        "\n",
        "Q18.  In what situations are lists preferred over dictionaries?\n",
        "\n",
        "**Ans-** While dictionaries are great for key‑based lookups, lists shine when you need to work with ordered collections and sequence operations.\n",
        "\n",
        "**When to Use Lists:**\n",
        "\n",
        "a. Maintaining Order- Lists preserve the order in which items are added.Ideal for time series data or any scenario where sequence matters.\n",
        "\n",
        "dates = [\"2025-01-01\", \"2025-01-02\", \"2025-01-03\"]\n",
        "\n",
        "b. Allowing Duplicates-Lists can contain the same value multiple times.Useful when you need to track repeated events or measurements.\n",
        "\n",
        "readings = [5.2, 5.2, 5.3, 5.2]\n",
        "\n",
        "c. Index‑Based Access & Slicing- You can quickly access by position and extract sub‑sequences.\n",
        "\n",
        "data = [10, 20, 30, 40]\n",
        "\n",
        "subset = data[1:3]  # [20, 30]\n",
        "\n",
        "d. Sequential Operations- Easy to loop through in order, apply functions like .append(), .insert(), .pop().\n",
        "\n",
        "names = []\n",
        "\n",
        "names.append(\"Alice\")\n",
        "\n",
        "names.append(\"Bob\")\n",
        "\n",
        "e. Simple Iteration for Analysis- When you need to iterate in order (e.g., calculating moving averages), lists are straightforward.\n",
        "\n",
        "for value in readings:\n",
        "\n",
        "    process(value)\n",
        "\n",
        "**Summary Comparison:**\n",
        "\n",
        "**Requirement**--------|-----**Use a List**---------|------**Use a Dictionary**\n",
        "\n",
        "Order matters-----------|------ Yes-----------------|----Only preserves insertion order (Python 3.7+) but not designed for sequences\n",
        "\n",
        "Duplicate values------|-----Allowed----------------|------Keys must be unique\n",
        "\n",
        "Access by position-----|-------list[index]----------|---N/A (must use a numeric key)\n",
        "\n",
        "Sequence slicing---|----Supported (list[start:stop])---|---Not supported\n",
        "\n",
        "Simple sequential loops---|---Natural iteration---|----Iterates over keys, not “elements”\n",
        "\n",
        "Using lists in these scenarios helps me handle ordered datasets, perform sequence-based computations, and maintain duplicate entries—all common tasks in data analysis.\n",
        "\n",
        "..\n",
        "\n",
        "Q19. Why are dictionaries considered unordered, and how does that affect data retrieval?\n",
        "\n",
        "**Ans-** dictionaries are designed for fast key‑based access, not for preserving item positions like sequences.\n",
        "\n",
        "**Unordered Nature**-\n",
        "\n",
        "a.Conceptual Design: Dictionaries map keys → values using a hash table.\n",
        "\n",
        "b.No Positional Indexing: Unlike lists, you cannot retrieve items by a numeric index (e.g., dict[0] doesn’t make sense).\n",
        "\n",
        "c.Iteration Order: In Python 3.7+, dictionaries preserve insertion order, but this is a language guarantee for iteration—not a mechanism to support sequence operations.You still access items by key, not by position.\n",
        "\n",
        "**Effect on Data Retrieval**\n",
        "\n",
        "a.Key‑Based Access Only-To get a value, you must know its exact key:\n",
        "\n",
        "student = {\"id\": 101, \"name\": \"Asha\"}\n",
        "\n",
        "print(student[\"name\"])  # Correct way\n",
        "\n",
        "You cannot do student[0] or rely on order to retrieve the “first” item.\n",
        "\n",
        "b. Iteration vs. Sequence- When you loop through a dictionary (for k in student:), you get keys in insertion order, not “values at positions.”\n",
        "\n",
        "If you need positional access or slicing, you must convert keys or values into a list first:\n",
        "\n",
        "keys_list = list(student.keys())\n",
        "\n",
        "first_key = keys_list[0]\n",
        "\n",
        "c. Implications for Analysis\n",
        "\n",
        "*You should use dictionaries when your data is naturally labelled (e.g., column → value).\n",
        "\n",
        "*If you need an ordered sequence (for time series, ranking, etc.), use a list or another ordered structure.\n",
        "\n",
        "*This understanding ensures I choose the right structure: dictionaries for labeled lookup, and lists or other types when order and indexing matter.\n",
        "\n",
        "..\n",
        "\n",
        "Q20. Explain the difference between a list and a dictionary in terms of data retrieval.\n",
        "\n",
        "**Ans-** the main difference in retrieving data from a list versus a dictionary lies in how you locate the item you want:\n",
        "\n",
        "**List Retrieval**\n",
        "\n",
        "a. By Position (Index): You retrieve items using a numeric index that represents the item’s position in the list.\n",
        "\n",
        "Indexing starts at 0.\n",
        "\n",
        "fruits = [\"apple\", \"banana\", \"cherry\"]\n",
        "\n",
        "first = fruits[0]   # \"apple\"\n",
        "\n",
        "b. Sequential Search (if you don’t know the index): You can loop through the list to find a value, which takes O(n) time in the worst case.\n",
        "\n",
        "\n",
        "for fruit in fruits:\n",
        "\n",
        "  if fruit == \"cherry\":\n",
        "\n",
        "    print(\"Found cherry!\")\n",
        "\n",
        "\n",
        "c. Dictionary Retrieval\n",
        "\n",
        "*By Key (Label): You retrieve items using a unique key that directly maps to a value.This lookup is usually O(1) (constant time) because of the underlying hash table.\n",
        "\n",
        "\n",
        "student = {\"id\": 101, \"name\": \"Asha\"}\n",
        "\n",
        "name = student[\"name\"]   # \"Asha\"\n",
        "\n",
        "*No Need to Search Sequentially:\n",
        "\n",
        "You don’t loop to find a key; you directly access the value if you know the key.\n",
        "\n",
        "**Summary Comparison**\n",
        "\n",
        "**Aspect**------------|--------------**List**---------|------------**Dictionary**\n",
        "\n",
        "Access Method--------|--------list[index]-------------|---------dict[key]\n",
        "\n",
        "Lookup Speed-----------|------Fast by index, slower by value (O(n) if you search)----|---Fast by key (O(1) on average)\n",
        "\n",
        "Key Requirement-------|---Index must be valid (0 ≤ index < length)-|--Key must exist (or use .get() to avoid errors)\n",
        "\n",
        "Use Case----|---Ordered sequences, positional dat---|--Labeled data, fast key-based lookup\n"
      ],
      "metadata": {
        "id": "ofgkrHvvmpLk"
      }
    },
    {
      "cell_type": "markdown",
      "source": [
        "# Practical Questions"
      ],
      "metadata": {
        "id": "pnPAUy8lFw5o"
      }
    },
    {
      "cell_type": "markdown",
      "source": [
        "Q1.\tWrite a code to create a string with your name and print it"
      ],
      "metadata": {
        "id": "SlTXxWkKF4XG"
      }
    },
    {
      "cell_type": "code",
      "execution_count": 1,
      "metadata": {
        "colab": {
          "base_uri": "https://localhost:8080/"
        },
        "id": "DDHggqJrmdvl",
        "outputId": "b5526c75-6c7b-4b74-c725-7d3fae90e4ea"
      },
      "outputs": [
        {
          "output_type": "stream",
          "name": "stdout",
          "text": [
            "Shridevi\n"
          ]
        }
      ],
      "source": [
        "name = \"Shridevi\"\n",
        "print(name)"
      ]
    },
    {
      "cell_type": "markdown",
      "source": [
        "Q2. Write a code to find the length of the string \"Hello World\""
      ],
      "metadata": {
        "id": "1MvrbIBDGF4k"
      }
    },
    {
      "cell_type": "code",
      "source": [
        "text = \"Hello World\"\n",
        "print(len(text))"
      ],
      "metadata": {
        "colab": {
          "base_uri": "https://localhost:8080/"
        },
        "id": "De4K9JTeGRbW",
        "outputId": "a1a127f0-3d87-40b3-9c43-69f8d945c43c"
      },
      "execution_count": 2,
      "outputs": [
        {
          "output_type": "stream",
          "name": "stdout",
          "text": [
            "11\n"
          ]
        }
      ]
    },
    {
      "cell_type": "markdown",
      "source": [
        "Q3. Write a code to slice the first 3 characters from the string \"Python Programming\""
      ],
      "metadata": {
        "id": "i6fYmi53GX2b"
      }
    },
    {
      "cell_type": "code",
      "source": [
        "text = \"Python Programming\"\n",
        "print(text[:3])"
      ],
      "metadata": {
        "colab": {
          "base_uri": "https://localhost:8080/"
        },
        "id": "UWhO3ui7Gbmp",
        "outputId": "0a2b89dd-44d3-4e72-816d-4cd7224bee69"
      },
      "execution_count": 3,
      "outputs": [
        {
          "output_type": "stream",
          "name": "stdout",
          "text": [
            "Pyt\n"
          ]
        }
      ]
    },
    {
      "cell_type": "markdown",
      "source": [
        "Q4.Write a code to convert the string \"hello\" to uppercase"
      ],
      "metadata": {
        "id": "BCgLbCuMGlhg"
      }
    },
    {
      "cell_type": "code",
      "source": [
        "text = \"hello\"\n",
        "print(text.upper())"
      ],
      "metadata": {
        "colab": {
          "base_uri": "https://localhost:8080/"
        },
        "id": "6HTxP-MOGqeE",
        "outputId": "f73498ba-fc67-4184-c66a-3c4b8a3e100d"
      },
      "execution_count": 1,
      "outputs": [
        {
          "output_type": "stream",
          "name": "stdout",
          "text": [
            "HELLO\n"
          ]
        }
      ]
    },
    {
      "cell_type": "markdown",
      "source": [
        "Q5.\tWrite a code to replace the word \"apple\" with \"orange\" in the string \"I like apple\""
      ],
      "metadata": {
        "id": "nQfTYh3Xm9jY"
      }
    },
    {
      "cell_type": "code",
      "source": [
        "text = \"I like apple\"\n",
        "print(text.replace(\"apple\", \"orange\"))"
      ],
      "metadata": {
        "colab": {
          "base_uri": "https://localhost:8080/"
        },
        "id": "oysP465DnBag",
        "outputId": "64c4de7e-086c-417d-e6b4-7ba7b6019249"
      },
      "execution_count": 2,
      "outputs": [
        {
          "output_type": "stream",
          "name": "stdout",
          "text": [
            "I like orange\n"
          ]
        }
      ]
    },
    {
      "cell_type": "markdown",
      "source": [
        "Q6.\tWrite a code to create a list with numbers 1 to 5 and print it"
      ],
      "metadata": {
        "id": "Jl8UHKYDnUW7"
      }
    },
    {
      "cell_type": "code",
      "source": [
        "numbers = [1, 2, 3, 4, 5]\n",
        "print(numbers)"
      ],
      "metadata": {
        "colab": {
          "base_uri": "https://localhost:8080/"
        },
        "id": "aGYtE4GengQ1",
        "outputId": "01c4ed0c-b09d-4a91-ecb0-17c66e3d0248"
      },
      "execution_count": 3,
      "outputs": [
        {
          "output_type": "stream",
          "name": "stdout",
          "text": [
            "[1, 2, 3, 4, 5]\n"
          ]
        }
      ]
    },
    {
      "cell_type": "markdown",
      "source": [
        "Q7.\tWrite a code to append the number 10 to the list [1, 2, 3, 4]"
      ],
      "metadata": {
        "id": "aoUrWvztnqdJ"
      }
    },
    {
      "cell_type": "code",
      "source": [
        "numbers = [1,2,3,4]\n",
        "numbers.append(10)\n",
        "print(numbers)"
      ],
      "metadata": {
        "colab": {
          "base_uri": "https://localhost:8080/"
        },
        "id": "96A7B5N4npUv",
        "outputId": "857203c6-8372-4fc1-e4ae-9884c098ddb8"
      },
      "execution_count": 5,
      "outputs": [
        {
          "output_type": "stream",
          "name": "stdout",
          "text": [
            "[1, 2, 3, 4, 10]\n"
          ]
        }
      ]
    },
    {
      "cell_type": "markdown",
      "source": [
        "Q8.\tWrite a code to remove the number 3 from the list [1, 2, 3, 4, 5]"
      ],
      "metadata": {
        "id": "9mTL0RXVoNg2"
      }
    },
    {
      "cell_type": "code",
      "source": [
        "numbers = [1,2,3,4,5]\n",
        "numbers.remove(3)\n",
        "print(numbers)"
      ],
      "metadata": {
        "colab": {
          "base_uri": "https://localhost:8080/"
        },
        "id": "hg35EOiloQ2a",
        "outputId": "dcba2a50-1eda-4837-9d20-4d5321e5a592"
      },
      "execution_count": 6,
      "outputs": [
        {
          "output_type": "stream",
          "name": "stdout",
          "text": [
            "[1, 2, 4, 5]\n"
          ]
        }
      ]
    },
    {
      "cell_type": "markdown",
      "source": [
        "Q9.\tWrite a code to access the second element in the list ['a', 'b', 'c', 'd']"
      ],
      "metadata": {
        "id": "shlzhjLSoiZm"
      }
    },
    {
      "cell_type": "code",
      "source": [
        "letters = ['a','b','c', 'd']\n",
        "print(\"1\")"
      ],
      "metadata": {
        "colab": {
          "base_uri": "https://localhost:8080/"
        },
        "id": "EzkP4jysok0-",
        "outputId": "0e65f20c-8cd8-48d2-cc43-f95f69424ae3"
      },
      "execution_count": 7,
      "outputs": [
        {
          "output_type": "stream",
          "name": "stdout",
          "text": [
            "1\n"
          ]
        }
      ]
    },
    {
      "cell_type": "markdown",
      "source": [
        "Q10.Write a code to reverse the list [10, 20, 30, 40, 50]."
      ],
      "metadata": {
        "id": "1EYWSsL_pLzJ"
      }
    },
    {
      "cell_type": "code",
      "source": [
        "numbers = [10, 20, 30, 40, 50]\n",
        "numbers.reverse()\n",
        "print(numbers)"
      ],
      "metadata": {
        "colab": {
          "base_uri": "https://localhost:8080/"
        },
        "id": "EpPSxSI5pP-y",
        "outputId": "996e2800-b96e-4d27-b7c4-7bf703f065c3"
      },
      "execution_count": 8,
      "outputs": [
        {
          "output_type": "stream",
          "name": "stdout",
          "text": [
            "[50, 40, 30, 20, 10]\n"
          ]
        }
      ]
    },
    {
      "cell_type": "markdown",
      "source": [
        "Q11. Write a code to create a tuple with the elements 100, 200, 300 and print it."
      ],
      "metadata": {
        "id": "15xJ-O1FpXN6"
      }
    },
    {
      "cell_type": "code",
      "source": [
        "my_tuple = (100, 200, 300)\n",
        "print(my_tuple)"
      ],
      "metadata": {
        "colab": {
          "base_uri": "https://localhost:8080/"
        },
        "id": "gGB3LW68pawd",
        "outputId": "d4f82ae3-f9ff-45d7-8e95-3aeddad9257d"
      },
      "execution_count": 9,
      "outputs": [
        {
          "output_type": "stream",
          "name": "stdout",
          "text": [
            "(100, 200, 300)\n"
          ]
        }
      ]
    },
    {
      "cell_type": "markdown",
      "source": [
        "Q12. Write a code to access the second-to-last element of the tuple ('red', 'green', 'blue', 'yellow')."
      ],
      "metadata": {
        "id": "xvIYN_V5phQf"
      }
    },
    {
      "cell_type": "code",
      "source": [
        "colors = ('red', 'green', 'blue', 'yellow')\n",
        "print(colors[-2])"
      ],
      "metadata": {
        "colab": {
          "base_uri": "https://localhost:8080/"
        },
        "id": "iYqvvW_spohq",
        "outputId": "20018c07-63ac-4a40-ed42-adcd27d14e76"
      },
      "execution_count": 10,
      "outputs": [
        {
          "output_type": "stream",
          "name": "stdout",
          "text": [
            "blue\n"
          ]
        }
      ]
    },
    {
      "cell_type": "markdown",
      "source": [
        "Q13. Write a code to find the minimum number in the tuple (10, 20, 5, 15)."
      ],
      "metadata": {
        "id": "3qpk02bQptSa"
      }
    },
    {
      "cell_type": "code",
      "source": [
        "numbers = (10, 20, 5, 15)\n",
        "print(min(numbers))"
      ],
      "metadata": {
        "colab": {
          "base_uri": "https://localhost:8080/"
        },
        "id": "nQ1odWrrpw04",
        "outputId": "288062fe-7430-4631-e61d-624ae2128339"
      },
      "execution_count": 11,
      "outputs": [
        {
          "output_type": "stream",
          "name": "stdout",
          "text": [
            "5\n"
          ]
        }
      ]
    },
    {
      "cell_type": "markdown",
      "source": [
        "Q14. Write a code to find the index of the element \"cat\" in the tuple ('dog', 'cat', 'rabbit')."
      ],
      "metadata": {
        "id": "cBD5D7n5p4XO"
      }
    },
    {
      "cell_type": "code",
      "source": [
        "animals = ('dog', 'cat', 'rabbit')\n",
        "print(animals.index(\"cat\"))"
      ],
      "metadata": {
        "colab": {
          "base_uri": "https://localhost:8080/"
        },
        "id": "Ml69zy2xp8Gc",
        "outputId": "39e3d8bc-7d4e-4ff1-e7b4-10c39dabfb56"
      },
      "execution_count": 12,
      "outputs": [
        {
          "output_type": "stream",
          "name": "stdout",
          "text": [
            "1\n"
          ]
        }
      ]
    },
    {
      "cell_type": "markdown",
      "source": [
        "Q15. Write a code to create a tuple containing three different fruits and check if \"kiwi\" is in it."
      ],
      "metadata": {
        "id": "MmVHFFCuqGpM"
      }
    },
    {
      "cell_type": "code",
      "source": [
        "fruits = (\"apple\", \"banana\", \"orange\")\n",
        "print(\"kiwi\" in fruits)"
      ],
      "metadata": {
        "colab": {
          "base_uri": "https://localhost:8080/"
        },
        "id": "w76f8yyTqM5n",
        "outputId": "c16eb426-ae27-41fa-8dd1-ba0a1f5688b8"
      },
      "execution_count": 13,
      "outputs": [
        {
          "output_type": "stream",
          "name": "stdout",
          "text": [
            "False\n"
          ]
        }
      ]
    },
    {
      "cell_type": "markdown",
      "source": [
        "Q16. Write a code to create a set with the elements 'a', 'b', 'c' and print it."
      ],
      "metadata": {
        "id": "88zxVVniqYnN"
      }
    },
    {
      "cell_type": "code",
      "source": [
        "my_set = {'a', 'b', 'c'}\n",
        "print(my_set)"
      ],
      "metadata": {
        "colab": {
          "base_uri": "https://localhost:8080/"
        },
        "id": "Agawxq6KqefC",
        "outputId": "59bc8aac-2ba0-4e3a-ce81-4bac80b73099"
      },
      "execution_count": 14,
      "outputs": [
        {
          "output_type": "stream",
          "name": "stdout",
          "text": [
            "{'b', 'a', 'c'}\n"
          ]
        }
      ]
    },
    {
      "cell_type": "markdown",
      "source": [
        "Q17.Write a code to clear all elements from the set {1, 2, 3, 4, 5}."
      ],
      "metadata": {
        "id": "IDi32EbPqnPc"
      }
    },
    {
      "cell_type": "code",
      "source": [
        "my_set = {1, 2, 3, 4, 5}\n",
        "my_set.clear()\n",
        "print(my_set)"
      ],
      "metadata": {
        "colab": {
          "base_uri": "https://localhost:8080/"
        },
        "id": "SQl7FmOPqrBC",
        "outputId": "de014797-50de-45e0-afd6-963bbd1d708f"
      },
      "execution_count": 15,
      "outputs": [
        {
          "output_type": "stream",
          "name": "stdout",
          "text": [
            "set()\n"
          ]
        }
      ]
    },
    {
      "cell_type": "markdown",
      "source": [
        "Q18.\tWrite a code to remove the element 4 from the set {1, 2, 3, 4}."
      ],
      "metadata": {
        "id": "XSln-eXNq3zM"
      }
    },
    {
      "cell_type": "code",
      "source": [
        "numbers= {1, 2, 3, 4}\n",
        "numbers.remove(4)\n",
        "print(numbers)"
      ],
      "metadata": {
        "colab": {
          "base_uri": "https://localhost:8080/"
        },
        "id": "WeKaS6PDq8lj",
        "outputId": "c9d91360-db4b-4236-94ca-ec8d15958f76"
      },
      "execution_count": 16,
      "outputs": [
        {
          "output_type": "stream",
          "name": "stdout",
          "text": [
            "{1, 2, 3}\n"
          ]
        }
      ]
    },
    {
      "cell_type": "markdown",
      "source": [
        "Q19.\tWrite a code to find the union of two sets {1, 2, 3} and {3, 4, 5}."
      ],
      "metadata": {
        "id": "CJPfeWH_rJK2"
      }
    },
    {
      "cell_type": "code",
      "source": [
        "numbers1 = {1, 2, 3}\n",
        "numbers2 = {3, 4, 5}\n",
        "print(numbers1.union(numbers2))"
      ],
      "metadata": {
        "colab": {
          "base_uri": "https://localhost:8080/"
        },
        "id": "9UsoX9ucrNeo",
        "outputId": "16976125-0e47-4cf1-a325-f8933556ec86"
      },
      "execution_count": 17,
      "outputs": [
        {
          "output_type": "stream",
          "name": "stdout",
          "text": [
            "{1, 2, 3, 4, 5}\n"
          ]
        }
      ]
    },
    {
      "cell_type": "markdown",
      "source": [
        "Q20.\tWrite a code to find the intersection of two sets {1, 2, 3} and {2, 3, 4}."
      ],
      "metadata": {
        "id": "ZJQ2vYYVrYah"
      }
    },
    {
      "cell_type": "code",
      "source": [
        "set1 = {1,2,3}\n",
        "set2 = {2,3,4}\n",
        "print(set1.intersection(set2))"
      ],
      "metadata": {
        "colab": {
          "base_uri": "https://localhost:8080/"
        },
        "id": "6py_cSoercCi",
        "outputId": "efdfefd4-b0d6-4b63-c468-e6882f1f8f9f"
      },
      "execution_count": 19,
      "outputs": [
        {
          "output_type": "stream",
          "name": "stdout",
          "text": [
            "{2, 3}\n"
          ]
        }
      ]
    },
    {
      "cell_type": "markdown",
      "source": [
        "Q21.\tWrite a code to create a dictionary with the keys \"name\", \"age\", and \"city\", and print it."
      ],
      "metadata": {
        "id": "sRT3M9mfr0T7"
      }
    },
    {
      "cell_type": "code",
      "source": [
        "person = {\"name\": \"John\", \"age\": 30, \"city\": \"New York\"}\n",
        "print(person)"
      ],
      "metadata": {
        "colab": {
          "base_uri": "https://localhost:8080/"
        },
        "id": "X-OCr4nPr5Eh",
        "outputId": "ed45ddd4-5fa4-48f2-eebf-3dd3844aba1a"
      },
      "execution_count": 20,
      "outputs": [
        {
          "output_type": "stream",
          "name": "stdout",
          "text": [
            "{'name': 'John', 'age': 30, 'city': 'New York'}\n"
          ]
        }
      ]
    },
    {
      "cell_type": "markdown",
      "source": [
        "Q22.\tWrite a code to add a new key-value pair \"country\": \"USA\" to the dictionary {'name': 'John', 'age': 25}."
      ],
      "metadata": {
        "id": "iEwhCp_JsnDy"
      }
    },
    {
      "cell_type": "code",
      "source": [
        "person = {'name': 'John', 'age': 25}\n",
        "person['country'] = 'USA'\n",
        "print(person)"
      ],
      "metadata": {
        "colab": {
          "base_uri": "https://localhost:8080/"
        },
        "id": "U9Bj266MsriE",
        "outputId": "e1fb74c1-e5aa-4867-dd9a-2d7c309eb2b4"
      },
      "execution_count": 21,
      "outputs": [
        {
          "output_type": "stream",
          "name": "stdout",
          "text": [
            "{'name': 'John', 'age': 25, 'country': 'USA'}\n"
          ]
        }
      ]
    },
    {
      "cell_type": "markdown",
      "source": [
        "Q23.\tWrite a code to access the value associated with the key \"name\" in the dictionary {'name': 'Alice', 'age': 30}."
      ],
      "metadata": {
        "id": "SttB7MJbtDc0"
      }
    },
    {
      "cell_type": "code",
      "source": [
        "person1 = {'name': 'Alice', 'age': 30}\n",
        "print(person1['name'])"
      ],
      "metadata": {
        "colab": {
          "base_uri": "https://localhost:8080/"
        },
        "id": "FAPeLB5stLUa",
        "outputId": "61db2dc4-7637-496c-d14f-fe56235a0bc0"
      },
      "execution_count": 22,
      "outputs": [
        {
          "output_type": "stream",
          "name": "stdout",
          "text": [
            "Alice\n"
          ]
        }
      ]
    },
    {
      "cell_type": "markdown",
      "source": [
        "Q24.\tWrite a code to remove the key \"age\" from the dictionary {'name': 'Bob', 'age': 22, 'city': 'New York'}."
      ],
      "metadata": {
        "id": "jqeJSeQOtZ6Z"
      }
    },
    {
      "cell_type": "code",
      "source": [
        "Person2 = {'name': 'Bob', 'age': 22, 'city': 'New York'}\n",
        "del Person2['age']\n",
        "print(Person2)"
      ],
      "metadata": {
        "colab": {
          "base_uri": "https://localhost:8080/"
        },
        "id": "R-seoAGUtgBW",
        "outputId": "294fbd92-73c3-4edd-b56c-4646eae266a2"
      },
      "execution_count": 23,
      "outputs": [
        {
          "output_type": "stream",
          "name": "stdout",
          "text": [
            "{'name': 'Bob', 'city': 'New York'}\n"
          ]
        }
      ]
    },
    {
      "cell_type": "markdown",
      "source": [
        "Q25.\tWrite a code to check if the key \"city\" exists in the dictionary {'name': 'Alice', 'city': 'Paris'}."
      ],
      "metadata": {
        "id": "PTDrIMk_tqgC"
      }
    },
    {
      "cell_type": "code",
      "source": [
        "person = {'name': 'Alice', 'city': 'Paris'}\n",
        "print(\"city\" in person)"
      ],
      "metadata": {
        "id": "EiX5N5yktv_M"
      },
      "execution_count": null,
      "outputs": []
    },
    {
      "cell_type": "markdown",
      "source": [
        "Q26.\tWrite a code to create a list, a tuple, and a dictionary, and print them all."
      ],
      "metadata": {
        "id": "gUsWbbPat6tF"
      }
    },
    {
      "cell_type": "code",
      "source": [
        "my_list = [1, 2, 3]\n",
        "my_tuple = (4, 5, 6)\n",
        "my_dict = {'a': 7, 'b': 8}\n",
        "\n",
        "print(my_list)\n",
        "print(my_tuple)\n",
        "print(my_dict)"
      ],
      "metadata": {
        "colab": {
          "base_uri": "https://localhost:8080/"
        },
        "id": "3wgXHPMft_Qm",
        "outputId": "1266eb6a-1428-4b56-eb1f-29d16e3fb8c7"
      },
      "execution_count": 24,
      "outputs": [
        {
          "output_type": "stream",
          "name": "stdout",
          "text": [
            "[1, 2, 3]\n",
            "(4, 5, 6)\n",
            "{'a': 7, 'b': 8}\n"
          ]
        }
      ]
    },
    {
      "cell_type": "markdown",
      "source": [
        "Q27.\tWrite a code to create a list of 5 random numbers between 1 and 100, sort it in ascending order, and print the result.(replaced)"
      ],
      "metadata": {
        "id": "DzIsDdaruOti"
      }
    },
    {
      "cell_type": "code",
      "source": [
        "import random\n",
        "numbers = [random.randint(1, 100) for _ in range(5)]\n",
        "numbers.sort()\n",
        "print(numbers)"
      ],
      "metadata": {
        "colab": {
          "base_uri": "https://localhost:8080/"
        },
        "id": "SvK2Jj26uSD_",
        "outputId": "0c9ba4b3-5192-4045-a110-85c13ce92a0e"
      },
      "execution_count": 29,
      "outputs": [
        {
          "output_type": "stream",
          "name": "stdout",
          "text": [
            "[52, 72, 73, 88, 100]\n"
          ]
        }
      ]
    },
    {
      "cell_type": "markdown",
      "source": [
        "Q28.\tWrite a code to create a list with strings and print the element at the third index."
      ],
      "metadata": {
        "id": "EKGCM_v3w6P9"
      }
    },
    {
      "cell_type": "code",
      "source": [
        "words = [\"apple\", \"banana\", \"cherry\", \"date\", \"elderberry\"]\n",
        "print(words[3])"
      ],
      "metadata": {
        "colab": {
          "base_uri": "https://localhost:8080/"
        },
        "id": "1IzwmbzgubYB",
        "outputId": "ebb86766-6739-4034-a659-ffceb31a345f"
      },
      "execution_count": 30,
      "outputs": [
        {
          "output_type": "stream",
          "name": "stdout",
          "text": [
            "date\n"
          ]
        }
      ]
    },
    {
      "cell_type": "markdown",
      "source": [
        "Q29.\tWrite a code to combine two dictionaries into one and print the result."
      ],
      "metadata": {
        "id": "3OlbfOhSxRBj"
      }
    },
    {
      "cell_type": "code",
      "source": [
        "dict1 = {'a': 1, 'b': 2}\n",
        "dict2 = {'c': 3, 'd': 4}\n",
        "combined_dict = {**dict1, **dict2}\n",
        "print(combined_dict)"
      ],
      "metadata": {
        "colab": {
          "base_uri": "https://localhost:8080/"
        },
        "id": "aD0JjmdOxVhO",
        "outputId": "90faceaf-c03c-437f-89c1-7b5b6f49d353"
      },
      "execution_count": 31,
      "outputs": [
        {
          "output_type": "stream",
          "name": "stdout",
          "text": [
            "{'a': 1, 'b': 2, 'c': 3, 'd': 4}\n"
          ]
        }
      ]
    },
    {
      "cell_type": "markdown",
      "source": [
        "Q30.\tWrite a code to convert a list of strings into a set."
      ],
      "metadata": {
        "id": "-a8Rpsmbxf-m"
      }
    },
    {
      "cell_type": "code",
      "source": [
        "fruits = [\"apple\", \"banana\", \"cherry\", \"apple\"]\n",
        "fruit_set = set(fruits)\n",
        "print(fruit_set)"
      ],
      "metadata": {
        "colab": {
          "base_uri": "https://localhost:8080/"
        },
        "id": "prRoshfuxmdC",
        "outputId": "99d95372-c727-4754-e49c-273d12d36cb7"
      },
      "execution_count": 32,
      "outputs": [
        {
          "output_type": "stream",
          "name": "stdout",
          "text": [
            "{'banana', 'cherry', 'apple'}\n"
          ]
        }
      ]
    }
  ]
}